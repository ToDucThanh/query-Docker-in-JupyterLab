{
 "cells": [
  {
   "cell_type": "code",
   "execution_count": 9,
   "id": "87e48821-6674-4bd4-86b1-8411e9d7cb7b",
   "metadata": {},
   "outputs": [],
   "source": [
    "import sklearn\n",
    "import openai\n",
    "import requests"
   ]
  },
  {
   "cell_type": "code",
   "execution_count": 2,
   "id": "a1b5bde5-fc72-49a2-92e2-a1096aea2500",
   "metadata": {},
   "outputs": [
    {
     "name": "stdout",
     "output_type": "stream",
     "text": [
      "*   Trying 172.21.0.3:8070...\n",
      "* Connected to docker-router (172.21.0.3) port 8070 (#0)\n",
      "> GET /help HTTP/1.1\n",
      "> Host: docker-router:8070\n",
      "> User-Agent: curl/7.88.1\n",
      "> Accept: */*\n",
      "> \n",
      "< HTTP/1.1 200 OK\n",
      "< date: Wed, 05 Jun 2024 09:13:41 GMT\n",
      "< server: uvicorn\n",
      "< content-length: 95\n",
      "< content-type: application/json\n",
      "< \n",
      "* Connection #0 to host docker-router left intact\n",
      "{\"Options\":\"[/containers, /containers/{container_id}/logs, containers/{container_id}/restart]\"}"
     ]
    }
   ],
   "source": [
    "!curl -v docker-router:8070/help"
   ]
  },
  {
   "cell_type": "code",
   "execution_count": 3,
   "id": "82a88c42-66ad-49ad-97ad-68b3af9a28b1",
   "metadata": {},
   "outputs": [
    {
     "name": "stdout",
     "output_type": "stream",
     "text": [
      "*   Trying 172.21.0.3:8070...\n",
      "* Connected to docker-router (172.21.0.3) port 8070 (#0)\n",
      "> GET / HTTP/1.1\n",
      "> Host: docker-router:8070\n",
      "> User-Agent: curl/7.88.1\n",
      "> Accept: */*\n",
      "> \n",
      "< HTTP/1.1 200 OK\n",
      "< date: Wed, 05 Jun 2024 09:13:45 GMT\n",
      "< server: uvicorn\n",
      "< content-length: 17\n",
      "< content-type: application/json\n",
      "< \n",
      "* Connection #0 to host docker-router left intact\n",
      "{\"Hello\":\"World\"}"
     ]
    }
   ],
   "source": [
    "!curl -v docker-router:8070"
   ]
  },
  {
   "cell_type": "code",
   "execution_count": 4,
   "id": "fe292b55-b7f1-4222-8e52-b353c3ed1919",
   "metadata": {},
   "outputs": [
    {
     "name": "stdout",
     "output_type": "stream",
     "text": [
      "*   Trying 172.21.0.3:8070...\n",
      "* Connected to docker-router (172.21.0.3) port 8070 (#0)\n",
      "> GET /healthy HTTP/1.1\n",
      "> Host: docker-router:8070\n",
      "> User-Agent: curl/7.88.1\n",
      "> Accept: */*\n",
      "> \n",
      "< HTTP/1.1 200 OK\n",
      "< date: Wed, 05 Jun 2024 09:13:49 GMT\n",
      "< server: uvicorn\n",
      "< content-length: 35\n",
      "< content-type: application/json\n",
      "< \n",
      "* Connection #0 to host docker-router left intact\n",
      "{\"Health check\":\"Everything is OK\"}"
     ]
    }
   ],
   "source": [
    "!curl -v docker-router:8070/healthy"
   ]
  },
  {
   "cell_type": "code",
   "execution_count": 5,
   "id": "a64a1ca9-0029-4243-9ca8-3410d5018781",
   "metadata": {},
   "outputs": [
    {
     "name": "stdout",
     "output_type": "stream",
     "text": [
      "*   Trying 172.21.0.3:8070...\n",
      "* Connected to docker-router (172.21.0.3) port 8070 (#0)\n",
      "> GET /containers HTTP/1.1\n",
      "> Host: docker-router:8070\n",
      "> User-Agent: curl/7.88.1\n",
      "> Accept: */*\n",
      "> \n",
      "< HTTP/1.1 200 OK\n",
      "< date: Wed, 05 Jun 2024 09:13:52 GMT\n",
      "< server: uvicorn\n",
      "< content-length: 251\n",
      "< content-type: application/json\n",
      "< \n",
      "* Connection #0 to host docker-router left intact\n",
      "[{\"id\":\"fb2b54fb6fd02f27f826b593e16ff58617d3b337df551061447b60e5c843f47d\",\"name\":\"docker-router-container\",\"status\":\"running\"},{\"id\":\"b8a197a6b625a3c4d6317c5c962465ebc76968395a4f081b24d898ef3f5c789b\",\"name\":\"jupyter-lab-container\",\"status\":\"running\"}]"
     ]
    }
   ],
   "source": [
    "!curl -v docker-router:8070/containers"
   ]
  },
  {
   "cell_type": "code",
   "execution_count": 6,
   "id": "52acb122-7053-42f9-9777-fd570bd29941",
   "metadata": {},
   "outputs": [
    {
     "name": "stdout",
     "output_type": "stream",
     "text": [
      "*   Trying 172.21.0.3:8070...\n",
      "* Connected to docker-router (172.21.0.3) port 8070 (#0)\n",
      "> GET /containers/docker-router-container/logs HTTP/1.1\n",
      "> Host: docker-router:8070\n",
      "> User-Agent: curl/7.88.1\n",
      "> Accept: */*\n",
      "> \n",
      "< HTTP/1.1 200 OK\n",
      "< date: Wed, 05 Jun 2024 09:14:49 GMT\n",
      "< server: uvicorn\n",
      "< content-length: 452\n",
      "< content-type: application/json\n",
      "< \n",
      "* Connection #0 to host docker-router left intact\n",
      "{\"logs\":\"INFO:     Started server process [1]\\nINFO:     Waiting for application startup.\\nINFO:     Application startup complete.\\nINFO:     Uvicorn running on http://0.0.0.0:8070 (Press CTRL+C to quit)\\nINFO:     172.21.0.2:52698 - \\\"GET /help HTTP/1.1\\\" 200 OK\\nINFO:     172.21.0.2:52706 - \\\"GET / HTTP/1.1\\\" 200 OK\\nINFO:     172.21.0.2:47154 - \\\"GET /healthy HTTP/1.1\\\" 200 OK\\nINFO:     172.21.0.2:47168 - \\\"GET /containers HTTP/1.1\\\" 200 OK\\n\"}"
     ]
    }
   ],
   "source": [
    "!curl -v docker-router:8070/containers/docker-router-container/logs"
   ]
  },
  {
   "cell_type": "code",
   "execution_count": 8,
   "id": "15e6b248-f0fa-4d39-af05-6046ccaffc32",
   "metadata": {},
   "outputs": [
    {
     "name": "stdout",
     "output_type": "stream",
     "text": [
      "*   Trying 172.21.0.3:8070...\n",
      "* Connected to docker-router (172.21.0.3) port 8070 (#0)\n",
      "> GET /containers/jupyter-lab-container/logs HTTP/1.1\n",
      "> Host: docker-router:8070\n",
      "> User-Agent: curl/7.88.1\n",
      "> Accept: */*\n",
      "> \n",
      "< HTTP/1.1 200 OK\n",
      "< date: Wed, 05 Jun 2024 09:16:10 GMT\n",
      "< server: uvicorn\n",
      "< content-length: 4200\n",
      "< content-type: application/json\n",
      "< \n",
      "{\"logs\":\"[I 2024-06-05 09:12:55.622 ServerApp] jupyter_archive | extension was successfully linked.\\n[I 2024-06-05 09:12:55.622 ServerApp] jupyter_lsp | extension was successfully linked.\\n[I 2024-06-05 09:12:55.624 ServerApp] jupyter_server_terminals | extension was successfully linked.\\n[W 2024-06-05 09:12:55.625 LabApp] 'base_url' has moved from NotebookApp to ServerApp. This config will be passed to ServerApp. Be sure to update your config before our next release.\\n[W 2024-06-05 09:12:55.625 LabApp] 'token' has moved from NotebookApp to ServerApp. This config will be passed to ServerApp. Be sure to update your config before our next release.\\n[W 2024-06-05 09:12:55.625 LabApp] 'password' has moved from NotebookApp to ServerApp. This config will be passed to ServerApp. Be sure to update your config before our next release.\\n[W 2024-06-05 09:12:55.627 ServerApp] ServerApp.token config is deprecated in 2.0. Use IdentityProvider.token.\\n[I 2024-06-05 09:12:55.627 ServerApp] jupyterlab | extension was successfully linked.\\n[I 2024-06-05 09:12:55.627 ServerApp] Writing Jupyter server cookie secret to /root/.local/share/jupyter/runtime/jupyter_cookie_secret\\n[I 2024-06-05 09:12:55.797 ServerApp] notebook_shim | extension was successfully linked.\\n[W 2024-06-05 09:12:55.807 ServerApp] All authentication is disabled.  Anyone who can connect to this server will be able to run code.\\n[I 2024-06-05 09:12:55.808 ServerApp] notebook_shim | extension was successfully loaded.\\n[I 2024-06-05 09:12:55.808 ServerApp] jupyter_archive | extension was successfully loaded.\\n[I 2024-06-05 09:12:55.809 ServerApp] jupyter_lsp | extension was successfully loaded.\\n[I 2024-06-05 09:12:55.810 ServerApp] jupyter_server_terminals | extension was successfully loaded.\\n[I 2024-06-05 09:12:55.811 LabApp] JupyterLab extension loaded from /usr/local/lib/python3.9/site-packages/jupyterlab\\n[I 2024-06-05 09:12:55.811 LabApp] JupyterLab application directory is /usr/local/share/jupyter/lab\\n[I 2024-06-05 09:12:55.811 LabApp] Extension Manager is 'pypi'.\\n[I 2024-06-05 09:12:55.814 ServerApp] jupyterlab | extension was successfully loaded.\\n[I 2024-06-05 09:12:55.814 ServerApp] Serving notebooks from local directory: /notebooks\\n[I 2024-06-05 09:12:55.814 ServerApp] Jupyter Server 2.14.1 is running at:\\n[I 2024-06-05 09:12:55.814 ServerApp] http://b8a197a6b625:8888/lab/lab\\n[I 2024-06-05 09:12:55.814 ServerApp]     http://127.0.0.1:8888/lab/lab\\n[I 2024-06-05 09:12:55.814 ServerApp] Use Control-C to stop this server and shut down all kernels (twice to skip confirmation).\\n[I 2024-06-05 09:12:55.829 ServerApp] Skipped non-installed server(s): bash-language-server, dockerfile-language-server-nodejs, javascript-typescript-langserver, jedi-language-server, julia-language-server, pyright, python-language-server, python-lsp-server, r-languageserver, sql-language-server, texlab, typescript-language-server, unified-language-server, vscode-css-languageserver-bin, vscode-html-languageserver-bin, vscode-json-languageserver-bin, yaml-language-server\\n[W 2024-06-05 09:13:05.142 ServerApp] 404 GET / (90621595b2a147da861fbd73fb7bfdbe@172.21.0.1) 14.32ms referer=None\\n[I 2024-06-05 09:13:10.753 ServerApp] 302 GET /lab (@172.21.0.1) 1.17ms\\n[W 2024-06-05 09:13:12.182 LabApp] Could not determine jupyterlab build status without nodejs\\n[I 2024-06-05 09:13:16.467 ServerApp] Writing notebook-signing key to /root/.local/share/jupyter/notebook_secret\\n[W 2024-06-05 09:13:16.467 ServerApp] Notebook test-notebook.ipynb is not trusted\\n[I 2024-06-05 09:13:16.639 ServerApp] Kernel started: 814afc61-86e9-49a4-bb07-88dc6ffcb97b\\n[I 2024-06-05 09:13:17.002 ServerApp] Connecting to kernel 814afc61-86e9-49a4-bb07-88dc6ffcb97b.\\n[I 2024-06-05 09:13:17.005 ServerApp] Connecting to kernel 814afc61-86e9-49a4-bb07-88dc6ffcb97b.\\n[I 2024-06-05 09:13:17.022 ServerApp] Connecting to kernel 814afc61-86e9-49a4-bb07-88dc6ffcb97b.\\n[W 2024-06-05 09:13:17.103 ServerApp] Got events for closed stream <zmq.eventloop.zmqstream.ZMQStream object at 0x7374f43883a0>\\n[I 2024-06-05 09:14:04.292 ServerApp] Sav* Connection #0 to host docker-router left intact\n",
      "ing file at /test-notebook.ipynb\\n[I 2024-06-05 09:16:04.327 ServerApp] Saving file at /sample.ipynb\\n\"}"
     ]
    }
   ],
   "source": [
    "!curl -v docker-router:8070/containers/jupyter-lab-container/logs"
   ]
  },
  {
   "cell_type": "code",
   "execution_count": 10,
   "id": "a1c76181-ef80-441d-81c7-0b77b390ab54",
   "metadata": {},
   "outputs": [
    {
     "name": "stdout",
     "output_type": "stream",
     "text": [
      "docker-router-container\n",
      "jupyter-lab-container\n"
     ]
    }
   ],
   "source": [
    "for entry in requests.get(\"http://docker-router:8070/containers\").json():\n",
    "    if entry.get(\"status\") == 'running':\n",
    "        print(entry.get(\"name\"))"
   ]
  },
  {
   "cell_type": "code",
   "execution_count": 14,
   "id": "7f37e49c-d74d-4198-b6ba-39fff3f9c52b",
   "metadata": {},
   "outputs": [
    {
     "name": "stdout",
     "output_type": "stream",
     "text": [
      "{'logs': '[I 2024-06-05 09:12:55.622 ServerApp] jupyter_archive | extension '\n",
      "         'was successfully linked.\\n'\n",
      "         '[I 2024-06-05 09:12:55.622 ServerApp] jupyter_lsp | extension was '\n",
      "         'successfully linked.\\n'\n",
      "         '[I 2024-06-05 09:12:55.624 ServerApp] jupyter_server_terminals | '\n",
      "         'extension was successfully linked.\\n'\n",
      "         \"[W 2024-06-05 09:12:55.625 LabApp] 'base_url' has moved from \"\n",
      "         'NotebookApp to ServerApp. This config will be passed to ServerApp. '\n",
      "         'Be sure to update your config before our next release.\\n'\n",
      "         \"[W 2024-06-05 09:12:55.625 LabApp] 'token' has moved from \"\n",
      "         'NotebookApp to ServerApp. This config will be passed to ServerApp. '\n",
      "         'Be sure to update your config before our next release.\\n'\n",
      "         \"[W 2024-06-05 09:12:55.625 LabApp] 'password' has moved from \"\n",
      "         'NotebookApp to ServerApp. This config will be passed to ServerApp. '\n",
      "         'Be sure to update your config before our next release.\\n'\n",
      "         '[W 2024-06-05 09:12:55.627 ServerApp] ServerApp.token config is '\n",
      "         'deprecated in 2.0. Use IdentityProvider.token.\\n'\n",
      "         '[I 2024-06-05 09:12:55.627 ServerApp] jupyterlab | extension was '\n",
      "         'successfully linked.\\n'\n",
      "         '[I 2024-06-05 09:12:55.627 ServerApp] Writing Jupyter server cookie '\n",
      "         'secret to /root/.local/share/jupyter/runtime/jupyter_cookie_secret\\n'\n",
      "         '[I 2024-06-05 09:12:55.797 ServerApp] notebook_shim | extension was '\n",
      "         'successfully linked.\\n'\n",
      "         '[W 2024-06-05 09:12:55.807 ServerApp] All authentication is '\n",
      "         'disabled.  Anyone who can connect to this server will be able to run '\n",
      "         'code.\\n'\n",
      "         '[I 2024-06-05 09:12:55.808 ServerApp] notebook_shim | extension was '\n",
      "         'successfully loaded.\\n'\n",
      "         '[I 2024-06-05 09:12:55.808 ServerApp] jupyter_archive | extension '\n",
      "         'was successfully loaded.\\n'\n",
      "         '[I 2024-06-05 09:12:55.809 ServerApp] jupyter_lsp | extension was '\n",
      "         'successfully loaded.\\n'\n",
      "         '[I 2024-06-05 09:12:55.810 ServerApp] jupyter_server_terminals | '\n",
      "         'extension was successfully loaded.\\n'\n",
      "         '[I 2024-06-05 09:12:55.811 LabApp] JupyterLab extension loaded from '\n",
      "         '/usr/local/lib/python3.9/site-packages/jupyterlab\\n'\n",
      "         '[I 2024-06-05 09:12:55.811 LabApp] JupyterLab application directory '\n",
      "         'is /usr/local/share/jupyter/lab\\n'\n",
      "         \"[I 2024-06-05 09:12:55.811 LabApp] Extension Manager is 'pypi'.\\n\"\n",
      "         '[I 2024-06-05 09:12:55.814 ServerApp] jupyterlab | extension was '\n",
      "         'successfully loaded.\\n'\n",
      "         '[I 2024-06-05 09:12:55.814 ServerApp] Serving notebooks from local '\n",
      "         'directory: /notebooks\\n'\n",
      "         '[I 2024-06-05 09:12:55.814 ServerApp] Jupyter Server 2.14.1 is '\n",
      "         'running at:\\n'\n",
      "         '[I 2024-06-05 09:12:55.814 ServerApp] '\n",
      "         'http://b8a197a6b625:8888/lab/lab\\n'\n",
      "         '[I 2024-06-05 09:12:55.814 ServerApp]     '\n",
      "         'http://127.0.0.1:8888/lab/lab\\n'\n",
      "         '[I 2024-06-05 09:12:55.814 ServerApp] Use Control-C to stop this '\n",
      "         'server and shut down all kernels (twice to skip confirmation).\\n'\n",
      "         '[I 2024-06-05 09:12:55.829 ServerApp] Skipped non-installed '\n",
      "         'server(s): bash-language-server, dockerfile-language-server-nodejs, '\n",
      "         'javascript-typescript-langserver, jedi-language-server, '\n",
      "         'julia-language-server, pyright, python-language-server, '\n",
      "         'python-lsp-server, r-languageserver, sql-language-server, texlab, '\n",
      "         'typescript-language-server, unified-language-server, '\n",
      "         'vscode-css-languageserver-bin, vscode-html-languageserver-bin, '\n",
      "         'vscode-json-languageserver-bin, yaml-language-server\\n'\n",
      "         '[W 2024-06-05 09:13:05.142 ServerApp] 404 GET / '\n",
      "         '(90621595b2a147da861fbd73fb7bfdbe@172.21.0.1) 14.32ms referer=None\\n'\n",
      "         '[I 2024-06-05 09:13:10.753 ServerApp] 302 GET /lab (@172.21.0.1) '\n",
      "         '1.17ms\\n'\n",
      "         '[W 2024-06-05 09:13:12.182 LabApp] Could not determine jupyterlab '\n",
      "         'build status without nodejs\\n'\n",
      "         '[I 2024-06-05 09:13:16.467 ServerApp] Writing notebook-signing key '\n",
      "         'to /root/.local/share/jupyter/notebook_secret\\n'\n",
      "         '[W 2024-06-05 09:13:16.467 ServerApp] Notebook test-notebook.ipynb '\n",
      "         'is not trusted\\n'\n",
      "         '[I 2024-06-05 09:13:16.639 ServerApp] Kernel started: '\n",
      "         '814afc61-86e9-49a4-bb07-88dc6ffcb97b\\n'\n",
      "         '[I 2024-06-05 09:13:17.002 ServerApp] Connecting to kernel '\n",
      "         '814afc61-86e9-49a4-bb07-88dc6ffcb97b.\\n'\n",
      "         '[I 2024-06-05 09:13:17.005 ServerApp] Connecting to kernel '\n",
      "         '814afc61-86e9-49a4-bb07-88dc6ffcb97b.\\n'\n",
      "         '[I 2024-06-05 09:13:17.022 ServerApp] Connecting to kernel '\n",
      "         '814afc61-86e9-49a4-bb07-88dc6ffcb97b.\\n'\n",
      "         '[W 2024-06-05 09:13:17.103 ServerApp] Got events for closed stream '\n",
      "         '<zmq.eventloop.zmqstream.ZMQStream object at 0x7374f43883a0>\\n'\n",
      "         '[I 2024-06-05 09:14:04.292 ServerApp] Saving file at '\n",
      "         '/test-notebook.ipynb\\n'\n",
      "         '[I 2024-06-05 09:16:04.327 ServerApp] Saving file at /sample.ipynb\\n'\n",
      "         '[I 2024-06-05 09:18:04.359 ServerApp] Saving file at /sample.ipynb\\n'}\n"
     ]
    }
   ],
   "source": [
    "from pprint import pprint\n",
    "\n",
    "pprint(requests.get(\"http://docker-router:8070/containers/jupyter-lab-container/logs\").json())"
   ]
  },
  {
   "cell_type": "code",
   "execution_count": null,
   "id": "29b476c4-cbdc-4760-859d-8abbe8aa1931",
   "metadata": {},
   "outputs": [],
   "source": []
  },
  {
   "cell_type": "code",
   "execution_count": null,
   "id": "496411ce-6bfc-45c3-ab10-913919608a22",
   "metadata": {},
   "outputs": [],
   "source": []
  }
 ],
 "metadata": {
  "kernelspec": {
   "display_name": "Python 3 (ipykernel)",
   "language": "python",
   "name": "python3"
  },
  "language_info": {
   "codemirror_mode": {
    "name": "ipython",
    "version": 3
   },
   "file_extension": ".py",
   "mimetype": "text/x-python",
   "name": "python",
   "nbconvert_exporter": "python",
   "pygments_lexer": "ipython3",
   "version": "3.9.19"
  }
 },
 "nbformat": 4,
 "nbformat_minor": 5
}
